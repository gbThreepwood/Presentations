{
 "cells": [
  {
   "cell_type": "markdown",
   "metadata": {
    "slideshow": {
     "slide_type": "slide"
    }
   },
   "source": [
    "# <center>ELE123 - Elektriske anlegg</center>"
   ]
  },
  {
   "cell_type": "markdown",
   "metadata": {
    "slideshow": {
     "slide_type": "fragment"
    }
   },
   "source": [
    "### <center>Forelesning 1, 19. August 2019.</center>"
   ]
  },
  {
   "cell_type": "markdown",
   "metadata": {
    "slideshow": {
     "slide_type": "skip"
    }
   },
   "source": [
    "Eirik Haustveit, 2019"
   ]
  },
  {
   "cell_type": "markdown",
   "metadata": {
    "slideshow": {
     "slide_type": "slide"
    }
   },
   "source": [
    "# Repetisjon vekselspenning og trefase"
   ]
  },
  {
   "cell_type": "markdown",
   "metadata": {
    "slideshow": {
     "slide_type": "fragment"
    }
   },
   "source": [
    "Med vekselspenning forstår ein ei spenning der polariteten periodisk vert snudd."
   ]
  },
  {
   "cell_type": "markdown",
   "metadata": {
    "slideshow": {
     "slide_type": "slide"
    }
   },
   "source": [
    "## Sinusforma vekselspenning"
   ]
  },
  {
   "cell_type": "markdown",
   "metadata": {
    "slideshow": {
     "slide_type": "fragment"
    }
   },
   "source": [
    "Eit sinusforma spenning er gitt av:"
   ]
  },
  {
   "cell_type": "markdown",
   "metadata": {
    "slideshow": {
     "slide_type": "fragment"
    }
   },
   "source": [
    "$$u(t) = \\hat{U} \\cdot \\sin(2 \\pi f t + \\varphi)$$"
   ]
  },
  {
   "cell_type": "code",
   "execution_count": 3,
   "metadata": {
    "slideshow": {
     "slide_type": "skip"
    }
   },
   "outputs": [],
   "source": [
    "import numpy as np\n",
    "import matplotlib.pyplot as plt\n",
    "import ipywidgets as widgets\n",
    "from ipywidgets import HBox, VBox"
   ]
  },
  {
   "cell_type": "code",
   "execution_count": 2,
   "metadata": {
    "code_folding": [
     1
    ],
    "slideshow": {
     "slide_type": "slide"
    }
   },
   "outputs": [
    {
     "data": {
      "application/vnd.jupyter.widget-view+json": {
       "model_id": "dbd8a21f344a4684871a59a8a1079822",
       "version_major": 2,
       "version_minor": 0
      },
      "text/plain": [
       "interactive(children=(IntSlider(value=2, description='Um', max=3, min=1), IntSlider(value=90, description='f',…"
      ]
     },
     "metadata": {},
     "output_type": "display_data"
    }
   ],
   "source": [
    "@widgets.interact\n",
    "def f(Um=(1,3),f=(10,200,20),phi=(-90,90,30)):\n",
    "    t = np.arange(0,0.04,0.0001)\n",
    "    u = Um * np.sin(2*np.pi*f*t + (phi*np.pi)/180)\n",
    "    plt.figure(figsize=(9, 3))\n",
    "    plt.plot(t, u)\n",
    "    plt.ylabel(\"U\")\n",
    "    plt.xlabel(\"t\")\n",
    "    plt.show()"
   ]
  },
  {
   "cell_type": "code",
   "execution_count": null,
   "metadata": {
    "slideshow": {
     "slide_type": "skip"
    }
   },
   "outputs": [],
   "source": []
  },
  {
   "cell_type": "markdown",
   "metadata": {
    "slideshow": {
     "slide_type": "slide"
    }
   },
   "source": [
    "## Kompleks skrivemåte"
   ]
  },
  {
   "cell_type": "markdown",
   "metadata": {
    "slideshow": {
     "slide_type": "fragment"
    }
   },
   "source": [
    "* Ein sinusforma storleik kan beskrivast ved hjelp av eit kompleks tal.\n",
    "* Talet vil holda informasjon om både amplitude og fase, men ikkje frekvens\n",
    "* Når ein nyttar komplekse tal til analyse av elektriske kraftsystem er utgangspunktet vanlegvis at alle spenningar og straumar har samme frekvens."
   ]
  },
  {
   "cell_type": "markdown",
   "metadata": {
    "slideshow": {
     "slide_type": "slide"
    }
   },
   "source": [
    "Frå Eulers formel har ein:\n",
    "$$e^{j \\theta} = \\cos(\\theta) + j\\sin(\\theta)$$"
   ]
  },
  {
   "cell_type": "markdown",
   "metadata": {
    "slideshow": {
     "slide_type": "subslide"
    }
   },
   "source": [
    "Ei sinusforma spenning kan derfor uttrykkast som:\n",
    "$$U = \\hat{U}e^{j \\theta} = \\hat{U}\\cos(\\theta) + j\\hat{U}\\sin(\\theta)$$"
   ]
  },
  {
   "cell_type": "markdown",
   "metadata": {
    "slideshow": {
     "slide_type": "subslide"
    }
   },
   "source": [
    "Ein har at:\n",
    "$$\\theta = \\omega t$$\n",
    "Spenninga kan derfor også skrivast som:\n",
    "$$U = \\hat{U} e^{j \\omega t}$$"
   ]
  },
  {
   "cell_type": "markdown",
   "metadata": {
    "slideshow": {
     "slide_type": "subslide"
    }
   },
   "source": [
    "Ein nyttar ofte den forenkla skrivemåten:\n",
    "$$ U = \\hat{U}\\angle \\theta$$"
   ]
  },
  {
   "cell_type": "markdown",
   "metadata": {
    "slideshow": {
     "slide_type": "fragment"
    }
   },
   "source": [
    "Fasevinkelen $\\theta$ har kun betydning dersom ein ser spenninga i relasjon til ei anna spenning (eller straum). Det er vanleg å velga ei spenning eller ein straum som referanse. Ein setter då vinkelen til referansespenninga til $0^{\\circ}$ og uttrykker alle andre vinklar i forhold til denne."
   ]
  },
  {
   "cell_type": "markdown",
   "metadata": {
    "slideshow": {
     "slide_type": "slide"
    }
   },
   "source": [
    "## Effektivverdi"
   ]
  },
  {
   "cell_type": "markdown",
   "metadata": {
    "slideshow": {
     "slide_type": "fragment"
    }
   },
   "source": [
    "I staden for amplitudeverdien er det ofte meir hensiktsmessig å uttrykka spenningar og straumar ved hjelp av effektivverdien. Til dømes:\n",
    "$$U = U_{RMS}\\angle \\theta$$"
   ]
  },
  {
   "cell_type": "markdown",
   "metadata": {
    "slideshow": {
     "slide_type": "fragment"
    }
   },
   "source": [
    "Fordelen er at effektivverdiane gjer det enkelt å berekna effekt."
   ]
  },
  {
   "cell_type": "markdown",
   "metadata": {
    "slideshow": {
     "slide_type": "subslide"
    }
   },
   "source": [
    "Øyeblkkseffekten er gitt av produktet av spenninga og straumen ved det gitte øyeblikket:"
   ]
  },
  {
   "cell_type": "markdown",
   "metadata": {
    "slideshow": {
     "slide_type": "fragment"
    }
   },
   "source": [
    "$$p(t) = u(t) \\cdot i(t)$$"
   ]
  },
  {
   "cell_type": "markdown",
   "metadata": {
    "slideshow": {
     "slide_type": "subslide"
    }
   },
   "source": [
    "Gjennomsnittseffekten får ein ved å integrera øyeblikkseffekten over ein periode $T$:"
   ]
  },
  {
   "cell_type": "markdown",
   "metadata": {
    "slideshow": {
     "slide_type": "fragment"
    }
   },
   "source": [
    "$$P_{avg} = \\frac{1}{T} \\int_0^T p(t) \\mathrm{d}t = \\frac{1}{T} \\int_0^T u(t) \\cdot i(t) \\mathrm{d}t$$"
   ]
  },
  {
   "cell_type": "markdown",
   "metadata": {
    "slideshow": {
     "slide_type": "subslide"
    }
   },
   "source": [
    "Spenninga kan uttrykkast som:"
   ]
  },
  {
   "cell_type": "markdown",
   "metadata": {
    "slideshow": {
     "slide_type": "fragment"
    }
   },
   "source": [
    "$$u(t) = R \\cdot i(t)$$"
   ]
  },
  {
   "cell_type": "markdown",
   "metadata": {
    "slideshow": {
     "slide_type": "subslide"
    }
   },
   "source": [
    "Gjennomsnittseffekten kan derfor uttrykkast som:"
   ]
  },
  {
   "cell_type": "markdown",
   "metadata": {
    "slideshow": {
     "slide_type": "fragment"
    }
   },
   "source": [
    "$$P_{avg} = R \\frac{1}{T} \\int_0^T i(t)^2 \\mathrm{d}t \\label{eq:average-power-ri}$$"
   ]
  },
  {
   "cell_type": "markdown",
   "metadata": {
    "slideshow": {
     "slide_type": "subslide"
    }
   },
   "source": [
    "For effektivverdien $U_{RMS}$, eller straumen $I_{RMS}$ ynskjer ein eit tal slik at effekten kan uttrykkast som:\n",
    "$$P_{avg} = I_{RMS}^2 \\cdot R = \\frac{U_{RMS}^2}{R} \\label{eq:average-power-rms-values}$$"
   ]
  },
  {
   "cell_type": "markdown",
   "metadata": {
    "slideshow": {
     "slide_type": "subslide"
    }
   },
   "source": [
    "Dersom ein setter saman likning \\eqref{eq:average-power-ri} og \\eqref{eq:average-power-rms-values} ser ein at kvadratet av effektivverdien til straumen kan uttrykkast som:"
   ]
  },
  {
   "cell_type": "markdown",
   "metadata": {
    "slideshow": {
     "slide_type": "fragment"
    }
   },
   "source": [
    "$$I_{RMS}^2 = \\frac{1}{T} \\int_0^T i(t)^2 \\mathrm{d}t$$"
   ]
  },
  {
   "cell_type": "markdown",
   "metadata": {
    "slideshow": {
     "slide_type": "subslide"
    }
   },
   "source": [
    "Effektivverdien er derfor definert som:"
   ]
  },
  {
   "cell_type": "markdown",
   "metadata": {
    "slideshow": {
     "slide_type": "fragment"
    }
   },
   "source": [
    "$$I_{RMS} = \\sqrt{ \\frac{1}{T} \\int_{0}^{T} i(t)^2 \\mathrm{d}t }$$"
   ]
  },
  {
   "cell_type": "markdown",
   "metadata": {
    "slideshow": {
     "slide_type": "fragment"
    }
   },
   "source": [
    "Ei liknande utleiing fører til det samme resultatet for effektivverdien av spenninga."
   ]
  },
  {
   "cell_type": "markdown",
   "metadata": {
    "slideshow": {
     "slide_type": "skip"
    }
   },
   "source": [
    "## Kompleks effekt"
   ]
  },
  {
   "cell_type": "markdown",
   "metadata": {
    "slideshow": {
     "slide_type": "skip"
    }
   },
   "source": [
    "Den komplekse effekten i eit einfasesystem er gitt av:\n",
    "$$S = U \\cdot I^*$$\n",
    "Der $U$ er den komplekse spenninga, og $I^*$ er den kompleks konjugerte av den komplekse straumen."
   ]
  },
  {
   "cell_type": "markdown",
   "metadata": {
    "slideshow": {
     "slide_type": "skip"
    }
   },
   "source": [
    "Den resulterande komplekse effekten gir oss informasjon om både aktiv og reaktiv effekt i krinsen:\n",
    "$$S = P + jQ$$\n",
    "Absoluttverdien av $S$ er den tilsynelatande effekten."
   ]
  },
  {
   "cell_type": "markdown",
   "metadata": {
    "slideshow": {
     "slide_type": "skip"
    }
   },
   "source": [
    "Grunnen til at ein må nytta den konjugerte av straumen er at ein har behov for forskjellen i vinkel mellom straum og spenning. Det vil også fungera å ta den konjugerte av spenninga, men sidan spenninga ofte er nytta som referanse velger ein å konjugera straumen"
   ]
  },
  {
   "cell_type": "markdown",
   "metadata": {
    "slideshow": {
     "slide_type": "slide"
    }
   },
   "source": [
    "## Faseforskyving mellom straum og spenning"
   ]
  },
  {
   "cell_type": "markdown",
   "metadata": {
    "slideshow": {
     "slide_type": "fragment"
    }
   },
   "source": [
    "I krinsar som har kapasitiv eller induktiv virkning vil det bli ei forskyving mellom straum og spenning. Cosinus til faseforskyvinga (vinkelen) mellom straum og spenning i eit system der straum og spenning er reine sinusfunksjonar vert kalla effektfaktoren, eller meir presist forskyvingseffektfaktoren for systemet. Ein nyttar bokstaven $\\varphi$ som symbol for vinkelen."
   ]
  },
  {
   "cell_type": "markdown",
   "metadata": {
    "slideshow": {
     "slide_type": "subslide"
    }
   },
   "source": [
    "Dersom ein i eit einfasesystem nyttar spenninga som referanse kjem fasevinkelen til uttrykk i straumen, som vist i dei fylgjande funksjonane:\n",
    "$$u(t) = \\hat{U} \\cos(\\omega t)$$\n",
    "$$i(t) = \\hat{I} \\cos(\\omega t - \\varphi)$$"
   ]
  },
  {
   "cell_type": "markdown",
   "metadata": {
    "slideshow": {
     "slide_type": "skip"
    }
   },
   "source": [
    "Den aktive effekten er den tilsynelatande effekten multiplisert med effektfaktoren:"
   ]
  },
  {
   "cell_type": "markdown",
   "metadata": {
    "slideshow": {
     "slide_type": "skip"
    }
   },
   "source": [
    "$$P = U \\cdot I \\cdot \\cos \\varphi$$"
   ]
  },
  {
   "cell_type": "markdown",
   "metadata": {
    "slideshow": {
     "slide_type": "subslide"
    }
   },
   "source": [
    "### Graf over spenning straum og effekt"
   ]
  },
  {
   "cell_type": "code",
   "execution_count": 3,
   "metadata": {
    "slideshow": {
     "slide_type": "fragment"
    }
   },
   "outputs": [],
   "source": [
    "t = np.arange(0,0.04,0.0001)\n",
    "Um = 1\n",
    "Im = 1\n",
    "f = 50\n",
    "omega = 2 * np.pi * f\n",
    "phi = np.pi/3"
   ]
  },
  {
   "cell_type": "code",
   "execution_count": 4,
   "metadata": {
    "code_folding": [],
    "slideshow": {
     "slide_type": "subslide"
    }
   },
   "outputs": [
    {
     "data": {
      "application/vnd.jupyter.widget-view+json": {
       "model_id": "99d3067189444d45b9c4bd8d049a9f33",
       "version_major": 2,
       "version_minor": 0
      },
      "text/plain": [
       "interactive(children=(IntSlider(value=0, description='phi', max=90, min=-90, step=10), Output()), _dom_classes…"
      ]
     },
     "metadata": {},
     "output_type": "display_data"
    }
   ],
   "source": [
    "@widgets.interact\n",
    "def f(phi=(-90,90,10)):\n",
    "    u = Um * np.cos(omega * t)\n",
    "    i = Im * np.cos(omega * t - (phi*np.pi)/180)\n",
    "    \n",
    "    fig, (ax1, ax2) = plt.subplots(2)\n",
    "    fig.suptitle('Faseforskyving mellom straum og spenning')\n",
    "    ax1.plot(t, u, label='U')\n",
    "    ax1.plot(t,i,label='I')\n",
    "    ax1.legend(loc='upper right')\n",
    "    ax2.plot(t, u*i, label='P')\n",
    "    ax1.set_xlim([0, 0.04])\n",
    "    ax1.set_ylim([-1, 1])\n",
    "    ax2.set_xlim([0, 0.04])\n",
    "    ax2.set_ylim([-1, 1])\n",
    "    #ax1.set_title('Straum og spenning')\n",
    "    #ax2.set_title('Effekt')"
   ]
  },
  {
   "cell_type": "markdown",
   "metadata": {
    "slideshow": {
     "slide_type": "subslide"
    }
   },
   "source": [
    "Ein ser at effekten svinger med ein frekvens som er det dobbelte av frekvensen til spenninga og straumen. Dersom straum og spenning er i fase svinger effektkurva aldri under nullpunktet. Dersom dei er ute av fase vil delar av effekten få motsatt retning. Effekt som periodisk endrar retning vert kalla reaktiv effekt, og utfører ikkje arbeid i systemet. "
   ]
  },
  {
   "cell_type": "markdown",
   "metadata": {
    "slideshow": {
     "slide_type": "slide"
    }
   },
   "source": [
    "## Induktiv og kapasitiv reaktans"
   ]
  },
  {
   "cell_type": "markdown",
   "metadata": {
    "slideshow": {
     "slide_type": "fragment"
    }
   },
   "source": [
    "I ein kondensator kjem straumen $90^{\\circ}$ før spenninga, i ein spole kjem spenninga $90^{\\circ}$ før straumen."
   ]
  },
  {
   "cell_type": "markdown",
   "metadata": {
    "slideshow": {
     "slide_type": "subslide"
    }
   },
   "source": [
    "### Kapasitiv reaktans"
   ]
  },
  {
   "cell_type": "markdown",
   "metadata": {
    "slideshow": {
     "slide_type": "fragment"
    }
   },
   "source": [
    "Generelt kan ein uttrykka impedansen i ein krins som:\n",
    "$$Z = \\frac{U}{I}$$\n",
    "For kondensatoren vert dette:\n",
    "$$Z_C = X_C = \\frac{u_c(t)}{i_c(t)}$$"
   ]
  },
  {
   "cell_type": "markdown",
   "metadata": {
    "slideshow": {
     "slide_type": "subslide"
    }
   },
   "source": [
    "Differensiallikninga for samanhengen mellom straum og spenning i ein ideell kondensator er:"
   ]
  },
  {
   "cell_type": "markdown",
   "metadata": {
    "slideshow": {
     "slide_type": "fragment"
    }
   },
   "source": [
    "$$i_c = C \\frac{\\mathrm{d} u_c}{\\mathrm{d}t}$$"
   ]
  },
  {
   "cell_type": "markdown",
   "metadata": {
    "slideshow": {
     "slide_type": "subslide"
    }
   },
   "source": [
    "Dersom spenninga over kondensatoren er sinusforma, kan den skrivast som:\n",
    "$$u_c(t) = \\hat{U} e^{j\\omega t}$$"
   ]
  },
  {
   "cell_type": "markdown",
   "metadata": {
    "slideshow": {
     "slide_type": "fragment"
    }
   },
   "source": [
    "Dersom ein deriverer spenninga med omsyn på tid får ein:"
   ]
  },
  {
   "cell_type": "markdown",
   "metadata": {
    "slideshow": {
     "slide_type": "fragment"
    }
   },
   "source": [
    "$$\\frac{\\mathrm{d} u_c}{\\mathrm{d}t} = \\frac{\\mathrm{d} \\hat{U} e^{j\\omega t}}{\\mathrm{d}t} = \\hat{U} j \\omega e^{j\\omega t}$$"
   ]
  },
  {
   "cell_type": "markdown",
   "metadata": {
    "slideshow": {
     "slide_type": "subslide"
    }
   },
   "source": [
    "Den kapasitive reaktansen for kondensatoren kan derfor uttrykkast som:"
   ]
  },
  {
   "cell_type": "markdown",
   "metadata": {
    "slideshow": {
     "slide_type": "fragment"
    }
   },
   "source": [
    "$$X_C = \\frac{u_c(t)}{C \\hat{U} j \\omega e^{j\\omega t}} = \\frac{1}{j \\omega C}$$"
   ]
  },
  {
   "cell_type": "markdown",
   "metadata": {
    "slideshow": {
     "slide_type": "subslide"
    }
   },
   "source": [
    "### Induktiv reaktans\n",
    "Ei tilsvarande utleiing gir oss uttrykket for den induktive reaktansen: $X_L = 2\\pi f L$."
   ]
  },
  {
   "cell_type": "markdown",
   "metadata": {
    "slideshow": {
     "slide_type": "skip"
    }
   },
   "source": [
    "Differensiallikninga for samanhengen mellom straum og spenning i ein ideell spole er:"
   ]
  },
  {
   "cell_type": "markdown",
   "metadata": {
    "slideshow": {
     "slide_type": "skip"
    }
   },
   "source": [
    "$$u_L = L \\frac{\\mathrm{d} i_L}{\\mathrm{d}t}$$"
   ]
  },
  {
   "cell_type": "code",
   "execution_count": null,
   "metadata": {
    "slideshow": {
     "slide_type": "skip"
    }
   },
   "outputs": [],
   "source": []
  },
  {
   "cell_type": "markdown",
   "metadata": {
    "slideshow": {
     "slide_type": "slide"
    }
   },
   "source": [
    "## Trefase"
   ]
  },
  {
   "cell_type": "markdown",
   "metadata": {
    "slideshow": {
     "slide_type": "subslide"
    }
   },
   "source": [
    "Dersom ein har eit symmetrisk trefasesystem med fasespenningane $U_a$, $U_b$, og $U_c$, og fasefylgje $abc$, er funksjonane for spenningane gitt av: "
   ]
  },
  {
   "cell_type": "markdown",
   "metadata": {
    "slideshow": {
     "slide_type": "fragment"
    }
   },
   "source": [
    "$$u_a(t) = \\hat{U} \\cdot \\sin(2 \\pi f t)$$\n",
    "$$u_b(t) = \\hat{U} \\cdot \\sin(2 \\pi f t -120)$$\n",
    "$$u_c(t) = \\hat{U} \\cdot \\sin(2 \\pi f t +120)$$"
   ]
  },
  {
   "cell_type": "markdown",
   "metadata": {
    "slideshow": {
     "slide_type": "subslide"
    }
   },
   "source": [
    "Dersom ein snur fasefylgja til $acb$, får ein:"
   ]
  },
  {
   "cell_type": "markdown",
   "metadata": {
    "slideshow": {
     "slide_type": "fragment"
    }
   },
   "source": [
    "$$u_a(t) = \\hat{U} \\cdot \\sin(2 \\pi f t)$$\n",
    "$$u_b(t) = \\hat{U} \\cdot \\sin(2 \\pi f t +120)$$\n",
    "$$u_c(t) = \\hat{U} \\cdot \\sin(2 \\pi f t -120)$$"
   ]
  },
  {
   "cell_type": "markdown",
   "metadata": {
    "slideshow": {
     "slide_type": "subslide"
    }
   },
   "source": [
    "### Trefasespenning med fasefylgje $abc$"
   ]
  },
  {
   "cell_type": "code",
   "execution_count": 5,
   "metadata": {
    "slideshow": {
     "slide_type": "fragment"
    }
   },
   "outputs": [
    {
     "data": {
      "image/png": "[encoded data removed]",
      "text/plain": [
       "<Figure size 648x216 with 1 Axes>"
      ]
     },
     "metadata": {
      "needs_background": "light"
     },
     "output_type": "display_data"
    }
   ],
   "source": [
    "f = 50\n",
    "Um = 1\n",
    "t = np.arange(0,0.04,0.0001)\n",
    "ua = Um*np.sin(2*np.pi*f*t)\n",
    "ub = Um*np.sin(2*np.pi*f*t - 2*np.pi/3)\n",
    "uc = Um*np.sin(2*np.pi*f*t - 4*np.pi/3)\n",
    "plt.figure(figsize=(9, 3))\n",
    "plt.plot(t, ua, t, ub, t, uc)\n",
    "plt.ylabel(\"U\")\n",
    "plt.xlabel(\"t\")\n",
    "plt.show()"
   ]
  },
  {
   "cell_type": "markdown",
   "metadata": {
    "slideshow": {
     "slide_type": "subslide"
    }
   },
   "source": [
    "### Trefasespenning med fasefylgje $acb$"
   ]
  },
  {
   "cell_type": "code",
   "execution_count": 6,
   "metadata": {
    "slideshow": {
     "slide_type": "fragment"
    }
   },
   "outputs": [
    {
     "data": {
      "image/png": "[encoded data removed]",
      "text/plain": [
       "<Figure size 648x216 with 1 Axes>"
      ]
     },
     "metadata": {
      "needs_background": "light"
     },
     "output_type": "display_data"
    }
   ],
   "source": [
    "f = 50\n",
    "Um = 1\n",
    "t = np.arange(0,0.04,0.0001)\n",
    "ua = Um*np.sin(2*np.pi*f*t)\n",
    "ub = Um*np.sin(2*np.pi*f*t - 4*np.pi/3)\n",
    "uc = Um*np.sin(2*np.pi*f*t - 2*np.pi/3)\n",
    "plt.figure(figsize=(9, 3))\n",
    "plt.plot(t, ua, t, ub, t, uc)\n",
    "plt.ylabel(\"U\")\n",
    "plt.xlabel(\"t\")\n",
    "plt.show()"
   ]
  },
  {
   "cell_type": "markdown",
   "metadata": {
    "slideshow": {
     "slide_type": "slide"
    }
   },
   "source": [
    "## Vektordiagram for trefasesystem"
   ]
  },
  {
   "cell_type": "code",
   "execution_count": 7,
   "metadata": {
    "code_folding": [
     0,
     11
    ],
    "slideshow": {
     "slide_type": "skip"
    }
   },
   "outputs": [],
   "source": [
    "def cart2pol(x, y):\n",
    "    \"\"\"Convert from Cartesian to polar coordinates.\n",
    "\n",
    "    Example\n",
    "    -------\n",
    "    >>> theta, radius = pol2cart(x, y)\n",
    "    \"\"\"\n",
    "    radius = np.hypot(x, y)\n",
    "    theta = np.arctan2(y, x)\n",
    "    return theta, radius\n",
    "\n",
    "def compass(u, v, arrowprops=None):\n",
    "    \"\"\"\n",
    "    Compass draws a graph that displays the vectors with\n",
    "    components `u` and `v` as arrows from the origin.\n",
    "\n",
    "    Examples\n",
    "    --------\n",
    "    >>> import numpy as np\n",
    "    >>> u = [+0, +0.5, -0.50, -0.90]\n",
    "    >>> v = [+1, +0.5, -0.45, +0.85]\n",
    "    >>> compass(u, v)\n",
    "    \"\"\"\n",
    "\n",
    "    angles, radii = cart2pol(u, v)\n",
    "\n",
    "    fig, ax = plt.subplots(subplot_kw=dict(polar=True))\n",
    "\n",
    "    kw = dict(arrowstyle=\"->\", color='k')\n",
    "    if arrowprops:\n",
    "        kw.update(arrowprops)\n",
    "    [ax.annotate(\"\", xy=(angle, radius), xytext=(0, 0),\n",
    "                 arrowprops=kw) for\n",
    "     angle, radius in zip(angles, radii)]\n",
    "\n",
    "    ax.set_ylim(0, np.max(radii))\n",
    "\n",
    "    return fig, ax"
   ]
  },
  {
   "cell_type": "code",
   "execution_count": 8,
   "metadata": {
    "slideshow": {
     "slide_type": "subslide"
    }
   },
   "outputs": [
    {
     "data": {
      "image/png": "[encoded data removed]",
      "text/plain": [
       "<Figure size 432x288 with 1 Axes>"
      ]
     },
     "metadata": {
      "needs_background": "light"
     },
     "output_type": "display_data"
    }
   ],
   "source": [
    "u = [1, -0.5, -0.5]\n",
    "v = [0, np.sqrt(3)/2, -np.sqrt(3)/2]\n",
    "\n",
    "arrowprops = dict(color='darkorange', linewidth=2)\n",
    "fig, ax = compass(u, v, arrowprops=arrowprops)"
   ]
  },
  {
   "cell_type": "markdown",
   "metadata": {
    "slideshow": {
     "slide_type": "slide"
    }
   },
   "source": [
    "## Stjerne og trekantkopling"
   ]
  },
  {
   "cell_type": "code",
   "execution_count": null,
   "metadata": {
    "slideshow": {
     "slide_type": "subslide"
    }
   },
   "outputs": [],
   "source": []
  },
  {
   "cell_type": "markdown",
   "metadata": {
    "slideshow": {
     "slide_type": "slide"
    }
   },
   "source": [
    "## Fase og linjespenningar i trefasesystem"
   ]
  },
  {
   "cell_type": "markdown",
   "metadata": {
    "slideshow": {
     "slide_type": "fragment"
    }
   },
   "source": [
    "Som alternativ til komplekse tal kan ein også nytta vektorar for å beskriva relasjonen mellom spenningar og straumar. I eit kartesisk koordinatsystem kan til dømes ei spenning vera gitt av vektoren:"
   ]
  },
  {
   "cell_type": "markdown",
   "metadata": {
    "slideshow": {
     "slide_type": "fragment"
    }
   },
   "source": [
    "$$\n",
    "U = \n",
    "\\begin{bmatrix}\n",
    "U_x, U_y\n",
    "\\end{bmatrix}\n",
    "$$"
   ]
  },
  {
   "cell_type": "markdown",
   "metadata": {
    "slideshow": {
     "slide_type": "subslide"
    }
   },
   "source": [
    "Med fase $a$ som referanse, kan dei tre fasespenningane då skrivast som:\n",
    "$$\n",
    "U_a = \n",
    "\\begin{bmatrix}\n",
    "\\hat{U} \\cdot \\cos(0), \\hat{U} \\cdot \\sin(0)\n",
    "\\end{bmatrix}\n",
    "$$\n",
    "$$\n",
    "U_b = \n",
    "\\begin{bmatrix}\n",
    "\\hat{U} \\cdot \\cos(-120), \\hat{U} \\cdot \\sin(-120)\n",
    "\\end{bmatrix}\n",
    "$$\n",
    "$$\n",
    "U_c = \n",
    "\\begin{bmatrix}\n",
    "\\hat{U} \\cdot \\cos(120), \\hat{U} \\cdot \\sin(120)\n",
    "\\end{bmatrix}\n",
    "$$"
   ]
  },
  {
   "cell_type": "markdown",
   "metadata": {
    "slideshow": {
     "slide_type": "subslide"
    }
   },
   "source": [
    "Linjespenningane er gitt av differansen mellom to fasespenningar, til dømes:\n",
    "\\begin{align*}\n",
    "U_{ab} = U_a - U_b =\n",
    "\\begin{bmatrix}\n",
    "\\hat{U} \\cdot \\cos(0), \\hat{U} \\cdot \\sin(0)\n",
    "\\end{bmatrix}\n",
    "- \\\\\n",
    "\\begin{bmatrix}\n",
    "\\hat{U} \\cdot \\cos(-120), \\hat{U} \\cdot \\sin(-120)\n",
    "\\end{bmatrix}\n",
    "\\end{align*}"
   ]
  },
  {
   "cell_type": "markdown",
   "metadata": {
    "slideshow": {
     "slide_type": "subslide"
    }
   },
   "source": [
    "Dette gir:\n",
    "$$\n",
    "U_{ab} =\n",
    "\\begin{bmatrix}\n",
    "\\hat{U}, 0\n",
    "\\end{bmatrix}\n",
    "-\n",
    "\\begin{bmatrix}\n",
    "-\\hat{U} \\cdot \\frac{1}{2}, -\\hat{U} \\cdot \\frac{\\sqrt{3}}{2}\n",
    "\\end{bmatrix}\n",
    "$$"
   ]
  },
  {
   "cell_type": "markdown",
   "metadata": {
    "slideshow": {
     "slide_type": "subslide"
    }
   },
   "source": [
    "$$\n",
    "U_{ab} = \n",
    "\\begin{bmatrix}\n",
    "\\hat{U} + \\frac{1}{2} \\hat{U}, \\hat{U} \\frac{\\sqrt{3}}{2}\n",
    "\\end{bmatrix}\n",
    "=\n",
    "\\begin{bmatrix}\n",
    "\\frac{3}{2} \\hat{U},  \\frac{\\sqrt{3}}{2} \\hat{U}\n",
    "\\end{bmatrix}\n",
    "$$"
   ]
  },
  {
   "cell_type": "markdown",
   "metadata": {
    "slideshow": {
     "slide_type": "subslide"
    }
   },
   "source": [
    "$$\n",
    "U_{ab} =\n",
    "\\hat{U}\n",
    "\\begin{bmatrix}\n",
    "\\frac{3}{2},  \\frac{\\sqrt{3}}{2}\n",
    "\\end{bmatrix}\n",
    "$$"
   ]
  },
  {
   "cell_type": "markdown",
   "metadata": {
    "slideshow": {
     "slide_type": "subslide"
    }
   },
   "source": [
    "Etter Pythagoras’ læresetning har ein at absoluttverdien (lengda til vektoren) vert:\n",
    "$$\n",
    "|U_{ab}| = \\sqrt{U_x^2 + U_y^2}\n",
    "$$"
   ]
  },
  {
   "cell_type": "markdown",
   "metadata": {
    "slideshow": {
     "slide_type": "subslide"
    }
   },
   "source": [
    "Ein får derfor:\n",
    "$$\n",
    "|U_{ab}| = \\sqrt{\\left( \\frac{3}{2} \\right)^2 + \\left( \\frac{\\sqrt{3}}{2} \\right)^2} = \\sqrt{3}\n",
    "$$"
   ]
  },
  {
   "cell_type": "markdown",
   "metadata": {
    "slideshow": {
     "slide_type": "fragment"
    }
   },
   "source": [
    "Linjespenninga i eit symmetrisk trefasesystem er $\\sqrt{3}$ ganger så stor som fasespenniga."
   ]
  },
  {
   "cell_type": "markdown",
   "metadata": {
    "slideshow": {
     "slide_type": "slide"
    }
   },
   "source": [
    "## Trefaseeffekt"
   ]
  },
  {
   "cell_type": "markdown",
   "metadata": {
    "slideshow": {
     "slide_type": "fragment"
    }
   },
   "source": [
    "Effekten i eit trefasesystem er tre ganger så stor som effekten i kvar fase:\n",
    "$$P = 3 \\cdot P_f = 3 \\cdot U_f \\cdot I_f \\label{eq:three-phase-power}$$\n",
    "Der $U_f$ og $I_f$ er effektivverdien av henholdsvis fasespenning og fasestraum."
   ]
  },
  {
   "cell_type": "markdown",
   "metadata": {
    "slideshow": {
     "slide_type": "subslide"
    }
   },
   "source": [
    "For ei stjernekopling har ein:\n",
    "$$U_f = \\frac{U_L}{\\sqrt{3}} \\label{eq:y-connection-voltage-relation}$$"
   ]
  },
  {
   "cell_type": "markdown",
   "metadata": {
    "slideshow": {
     "slide_type": "fragment"
    }
   },
   "source": [
    "Der $U_L$ er effektivverdien av linjespenninga."
   ]
  },
  {
   "cell_type": "markdown",
   "metadata": {
    "slideshow": {
     "slide_type": "subslide"
    }
   },
   "source": [
    "$$I_f = I_L \\label{eq:y-connection-current-relation}$$"
   ]
  },
  {
   "cell_type": "markdown",
   "metadata": {
    "slideshow": {
     "slide_type": "subslide"
    }
   },
   "source": [
    "Dersom ein setter likning \\eqref{eq:y-connection-voltage-relation} inn for fasespenning, og likning \\eqref{eq:y-connection-current-relation} inn for fasestraum i likning \\eqref{eq:three-phase-power}, får ein:"
   ]
  },
  {
   "cell_type": "markdown",
   "metadata": {
    "slideshow": {
     "slide_type": "fragment"
    }
   },
   "source": [
    "$$P = 3 \\cdot \\frac{U_L}{\\sqrt{3}} \\cdot I_L = \\sqrt{3} \\cdot U_L \\cdot I_L$$"
   ]
  },
  {
   "cell_type": "markdown",
   "metadata": {
    "slideshow": {
     "slide_type": "subslide"
    }
   },
   "source": [
    "Oppgåve: gjer den samme utleiinga for effekten i ein trekantkopling."
   ]
  },
  {
   "cell_type": "markdown",
   "metadata": {
    "slideshow": {
     "slide_type": "slide"
    }
   },
   "source": [
    "## Kvifor trefase"
   ]
  },
  {
   "cell_type": "markdown",
   "metadata": {
    "slideshow": {
     "slide_type": "fragment"
    }
   },
   "source": [
    "Den totale effekten omsatt i ei trefase last er tre ganger så stor som effekten i kvar fase:\n",
    "$$P_{tot} = 3 \\cdot U_f \\cdot I_f$$"
   ]
  },
  {
   "cell_type": "markdown",
   "metadata": {
    "slideshow": {
     "slide_type": "subslide"
    }
   },
   "source": [
    "Då ein kun har ein ekstra leiar samanlikna med eit einfase system, ser ein at det er mogleg å overføra $3$ ganger så stor effekt med $1,5$ ganger så mykje leiarmateriale. Dette fører som regel til store økonomiske fordelar dersom elektrisk energi skal overførast over store avstandar."
   ]
  },
  {
   "cell_type": "markdown",
   "metadata": {
    "slideshow": {
     "slide_type": "subslide"
    }
   },
   "source": [
    "Ein anna viktig fordel er at ein enkelt kan skapa eit roterande magnetisk felt ved hjelp av trefase. Trefase transformatorar kan byggast mindre for samme effekt, enn det som er mogleg med einfase transformatorar."
   ]
  },
  {
   "cell_type": "markdown",
   "metadata": {
    "slideshow": {
     "slide_type": "subslide"
    }
   },
   "source": [
    "Det er ingenting i vegen for å bygga system med meir enn 3 fasar. Eit 6-fase system vil ha enda meir effektiv utnyttelse av leiarmaterialet. Det viser seg derimot at det i praksis ikkje lønnar seg, då fleire fasar fører til eit behov for fleire effektbrytarar, meir måleutstyr og andre komponentar som auker dei totale kostnadane ved overføringa."
   ]
  },
  {
   "cell_type": "markdown",
   "metadata": {},
   "source": [
    "Effekten i eit trefasesystem varierer mindre rundt gjennomsnittet enn effekten i ein einfasesystem."
   ]
  },
  {
   "cell_type": "code",
   "execution_count": 16,
   "metadata": {
    "code_folding": [
     1
    ]
   },
   "outputs": [
    {
     "data": {
      "application/vnd.jupyter.widget-view+json": {
       "model_id": "8202cec736b54c89b675181acfc0ab2d",
       "version_major": 2,
       "version_minor": 0
      },
      "text/plain": [
       "interactive(children=(IntSlider(value=0, description='phi', max=90, min=-90, step=10), Output()), _dom_classes…"
      ]
     },
     "metadata": {},
     "output_type": "display_data"
    }
   ],
   "source": [
    "@widgets.interact\n",
    "def f(phi=(-90,90,10)):\n",
    "    f = 50\n",
    "    Um = 1\n",
    "    R = 1\n",
    "    t = np.arange(0,0.04,0.0001)\n",
    "    ua = Um*np.sin(2*np.pi*f*t)\n",
    "    ub = Um*np.sin(2*np.pi*f*t - 2*np.pi/3)\n",
    "    uc = Um*np.sin(2*np.pi*f*t - 4*np.pi/3)\n",
    "    ia = Um*np.sin(2*np.pi*f*t + (phi/180)*np.pi)\n",
    "    ib = Um*np.sin(2*np.pi*f*t - 2*np.pi/3 + (phi/180)*np.pi)\n",
    "    ic = Um*np.sin(2*np.pi*f*t - 4*np.pi/3 + (phi/180)*np.pi)\n",
    "\n",
    "    ptot = ua*ia + ub*ib + uc*ic\n",
    "\n",
    "\n",
    "    fig, (ax1, ax2, ax3) = plt.subplots(3)\n",
    "    fig.tight_layout()\n",
    "    fig.suptitle('')\n",
    "    ax1.plot(t, ua, label='Ua')\n",
    "    ax1.plot(t, ub ,label='Ub')\n",
    "    ax1.plot(t, uc ,label='Uc')\n",
    "    ax1.legend(loc='upper right')\n",
    "    ax1.figsize=(8, 6)\n",
    "    \n",
    "    ax2.plot(t, ia, label='Ua')\n",
    "    ax2.plot(t, ib ,label='Ub')\n",
    "    ax2.plot(t, ic ,label='Uc')\n",
    "    ax2.legend(loc='upper right')\n",
    "    \n",
    "    ax3.plot(t, ptot, label='P')\n",
    "    ax1.set_xlim([0, 0.04])\n",
    "    ax1.set_ylim([-1, 1])\n",
    "    #ax2.set_xlim([0, 0.04])\n",
    "    ax3.set_ylim([-2, 2])"
   ]
  },
  {
   "cell_type": "code",
   "execution_count": null,
   "metadata": {},
   "outputs": [],
   "source": []
  },
  {
   "cell_type": "markdown",
   "metadata": {
    "slideshow": {
     "slide_type": "skip"
    }
   },
   "source": [
    "# Kjelder"
   ]
  },
  {
   "cell_type": "markdown",
   "metadata": {
    "slideshow": {
     "slide_type": "skip"
    }
   },
   "source": [
    "Elektroteknisk Ledningsberegning av Terje Dyrstad. ISBN: 9788213022514"
   ]
  },
  {
   "cell_type": "code",
   "execution_count": null,
   "metadata": {},
   "outputs": [],
   "source": []
  }
 ],
 "metadata": {
  "celltoolbar": "Slideshow",
  "kernelspec": {
   "display_name": "Python 3",
   "language": "python",
   "name": "python3"
  },
  "language_info": {
   "codemirror_mode": {
    "name": "ipython",
    "version": 3
   },
   "file_extension": ".py",
   "mimetype": "text/x-python",
   "name": "python",
   "nbconvert_exporter": "python",
   "pygments_lexer": "ipython3",
   "version": "3.7.3"
  },
  "latex_envs": {
   "LaTeX_envs_menu_present": true,
   "autoclose": false,
   "autocomplete": true,
   "bibliofile": "bib/zotero.bib",
   "cite_by": "apalike",
   "current_citInitial": 1,
   "eqLabelWithNumbers": true,
   "eqNumInitial": 1,
   "hotkeys": {
    "equation": "Ctrl-E",
    "itemize": "Ctrl-I"
   },
   "labels_anchors": false,
   "latex_user_defs": false,
   "report_style_numbering": false,
   "user_envs_cfg": false
  }
 },
 "nbformat": 4,
 "nbformat_minor": 2
}
